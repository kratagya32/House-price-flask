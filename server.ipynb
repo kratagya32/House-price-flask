{
 "cells": [
  {
   "cell_type": "code",
   "execution_count": null,
   "metadata": {},
   "outputs": [],
   "source": [
    "pwd"
   ]
  },
  {
   "cell_type": "code",
   "execution_count": null,
   "metadata": {},
   "outputs": [],
   "source": [
    "\n",
    "\n",
    "@app.route('/predict', methods=['POST'])\n",
    "def apicall():\n",
    "\t\"\"\"\n",
    "\tAPI Call\n",
    "\tPandas dataframe (sent as a payload) from API Call\n",
    "\t\"\"\"\n",
    "\ttry:\n",
    "\t\ttest_json = request.get_json()\n",
    "\t\ttest = pd.read_json(test_json)\n",
    "\t\tprint(\"The test data received are as follows...\")\n",
    "\t\tprint(test)\n",
    "\t\tprint()\n",
    "\n",
    "\texcept Exception as e:\n",
    "\t\traise e\n",
    "\n",
    "\tclf = 'lm_model_v1.pk'\n",
    "\t\n",
    "\tif test.empty:\n",
    "\t\treturn(bad_request())\n",
    "\telse:\n",
    "\t\t#Load the saved model\n",
    "\t\tprint(\"Loading the model...\")\n",
    "\t\tloaded_model = None\n",
    "\t\twith open('./models/'+clf,'rb') as f:\n",
    "\t\t\tloaded_model = pickle.load(f)\n",
    "\n",
    "\t\tprint(\"The model has been loaded...doing predictions now...\")\n",
    "\t\tprint()\n",
    "\t\tpredictions = loaded_model.predict(test)\n",
    "\t\t\t\n",
    "\t\tprediction_series = pd.Series(predictions)\n",
    "\t\tresponse = jsonify(prediction_series.to_json())\n",
    "\t\tresponse.status_code = 200\n",
    "\t\treturn (response)\n",
    "\n",
    "@app.errorhandler(400)\n",
    "def bad_request(error=None):\n",
    "\tmessage = {\n",
    "\t\t\t'status': 400,\n",
    "\t\t\t'message': 'Bad Request: ' + request.url + '--> Please check your data payload...',\n",
    "\t}\n",
    "\tresp = jsonify(message)\n",
    "\tresp.status_code = 400\n",
    "\n",
    "\treturn resp\n"
   ]
  },
  {
   "cell_type": "code",
   "execution_count": null,
   "metadata": {},
   "outputs": [],
   "source": [
    "import os\n",
    "import pandas as pd\n",
    "import dill as pickle\n",
    "from flask import Flask, jsonify, request\n"
   ]
  },
  {
   "cell_type": "code",
   "execution_count": null,
   "metadata": {},
   "outputs": [],
   "source": [
    "app = Flask(__name__)\n"
   ]
  },
  {
   "cell_type": "code",
   "execution_count": null,
   "metadata": {},
   "outputs": [],
   "source": [
    "@app.route('/predict', methods=['POST'])\n",
    "def apicall():\n",
    "\t\"\"\"\n",
    "\tAPI Call\n",
    "\tPandas dataframe (sent as a payload) from API Call\n",
    "\t\"\"\"\n",
    "\ttry:\n",
    "\t\ttest_json = request.get_json()\n",
    "\t\ttest = pd.read_json(test_json)\n",
    "\t\tprint(\"The test data received are as follows...\")\n",
    "\t\tprint(test)\n",
    "\t\tprint()\n",
    "\n",
    "\texcept Exception as e:\n",
    "\t\traise e\n",
    "\n",
    "\tclf = 'model.pkl'\n",
    "\t\n",
    "\tif test.empty:\n",
    "\t\treturn(bad_request())\n",
    "\telse:\n",
    "\t\t#Load the saved model\n",
    "\t\tprint(\"Loading the model...\")\n",
    "\t\tloaded_model = None\n",
    "\t\twith open(clf,'rb') as f:\n",
    "\t\t\tloaded_model = pickle.load(f)\n",
    "\n",
    "\t\tprint(\"The model has been loaded...doing predictions now...\")\n",
    "\t\tprint()\n",
    "\t\tpredictions = loaded_model.predict(test)\n",
    "\t\t\t\n",
    "\t\tprediction_series = pd.Series(predictions)\n",
    "\t\tresponse = jsonify(prediction_series.to_json())\n",
    "\t\tresponse.status_code = 200\n",
    "\t\treturn (response)\n",
    "\n",
    "@app.errorhandler(400)\n",
    "def bad_request(error=None):\n",
    "\tmessage = {\n",
    "\t\t\t'status': 400,\n",
    "\t\t\t'message': 'Bad Request: ' + request.url + '--> Please check your data payload...',\n",
    "\t}\n",
    "\tresp = jsonify(message)\n",
    "\tresp.status_code = 400\n",
    "\n",
    "\treturn resp"
   ]
  },
  {
   "cell_type": "code",
   "execution_count": null,
   "metadata": {},
   "outputs": [],
   "source": [
    "app.run()"
   ]
  },
  {
   "cell_type": "code",
   "execution_count": null,
   "metadata": {},
   "outputs": [],
   "source": [
    "if __name__ == '__main__':\n",
    "    app.run()"
   ]
  },
  {
   "cell_type": "code",
   "execution_count": null,
   "metadata": {},
   "outputs": [],
   "source": [
    "app.quit()"
   ]
  },
  {
   "cell_type": "code",
   "execution_count": null,
   "metadata": {},
   "outputs": [],
   "source": []
  }
 ],
 "metadata": {
  "kernelspec": {
   "display_name": "Python 3",
   "language": "python",
   "name": "python3"
  },
  "language_info": {
   "codemirror_mode": {
    "name": "ipython",
    "version": 3
   },
   "file_extension": ".py",
   "mimetype": "text/x-python",
   "name": "python",
   "nbconvert_exporter": "python",
   "pygments_lexer": "ipython3",
   "version": "3.7.6"
  }
 },
 "nbformat": 4,
 "nbformat_minor": 4
}
