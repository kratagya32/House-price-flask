{
 "cells": [
  {
   "cell_type": "code",
   "execution_count": 1,
   "metadata": {},
   "outputs": [
    {
     "data": {
      "text/plain": [
       "'/home/kratagya/Desktop/ML_AI/python files/Untitled Folder'"
      ]
     },
     "execution_count": 1,
     "metadata": {},
     "output_type": "execute_result"
    }
   ],
   "source": [
    "pwd"
   ]
  },
  {
   "cell_type": "code",
   "execution_count": 1,
   "metadata": {},
   "outputs": [],
   "source": [
    "import numpy as np\n",
    "import pandas as pd\n",
    "\n",
    "import os \n",
    "import json\n",
    "import io\n",
    "import requests\n",
    "\n",
    "import dill as pickle\n",
    "\n",
    "from sklearn.model_selection import train_test_split\n",
    "from sklearn.linear_model import LinearRegression\n",
    "from sklearn import metrics"
   ]
  },
  {
   "cell_type": "code",
   "execution_count": 2,
   "metadata": {},
   "outputs": [],
   "source": [
    "df = pd.read_csv(\"../../Data/House_price_prediction/USA_Housing1.csv\")"
   ]
  },
  {
   "cell_type": "code",
   "execution_count": 3,
   "metadata": {},
   "outputs": [],
   "source": [
    "# Make a list column names\n",
    "column_list = list(df.columns) # Making a list out of column names\n",
    "feature_length = len(column_list) # Length of column vector list"
   ]
  },
  {
   "cell_type": "code",
   "execution_count": 7,
   "metadata": {},
   "outputs": [],
   "source": [
    "# Put all the numerical features in X and Price in y, \n",
    "# Ignore Address which is string for linear regression\n",
    "X = df[column_list[0:feature_length-2]]\n",
    "y = df[column_list[feature_length-2]]"
   ]
  },
  {
   "cell_type": "code",
   "execution_count": 10,
   "metadata": {},
   "outputs": [
    {
     "name": "stdout",
     "output_type": "stream",
     "text": [
      "Feature set size: (5000, 5)\n",
      "Target set size: (5000,)\n",
      "\n",
      "Features variables:  ['Avg. Area Income', 'Avg. Area House Age', 'Avg. Area Number of Rooms', 'Avg. Area Number of Bedrooms', 'Area Population']\n",
      "Target variable:  Price\n",
      "\n"
     ]
    }
   ],
   "source": [
    "print(\"Feature set size:\",X.shape)\n",
    "print(\"Target set size:\",y.shape)\n",
    "print()\n",
    "print(\"Features variables: \",column_list[0:feature_length-2])\n",
    "print(\"Target variable: \",column_list[feature_length-2])\n",
    "print()"
   ]
  },
  {
   "cell_type": "code",
   "execution_count": 11,
   "metadata": {},
   "outputs": [
    {
     "name": "stdout",
     "output_type": "stream",
     "text": [
      "Training feature set size: (3500, 5)\n",
      "Test feature set size: (1500, 5)\n",
      "Training target set size: (3500,)\n",
      "Test target set size: (1500,)\n",
      "\n"
     ]
    }
   ],
   "source": [
    "# Create X and y train and test splits in one command using a split ratio and a random seed\n",
    "X_train, X_test, y_train, y_test = train_test_split(X, y, test_size=0.3, random_state=101)\n",
    "print(\"Training feature set size:\",X_train.shape)\n",
    "print(\"Test feature set size:\",X_test.shape)\n",
    "print(\"Training target set size:\",y_train.shape)\n",
    "print(\"Test target set size:\",y_test.shape)\n",
    "print()"
   ]
  },
  {
   "cell_type": "code",
   "execution_count": 12,
   "metadata": {},
   "outputs": [
    {
     "name": "stdout",
     "output_type": "stream",
     "text": [
      "Model training done...\n",
      "\n"
     ]
    }
   ],
   "source": [
    "# Model fit and training\n",
    "lm = LinearRegression() # Creating a Linear Regression object 'lm'\n",
    "lm.fit(X_train,y_train)\n",
    "print(\"Model training done...\")\n",
    "print()\n"
   ]
  },
  {
   "cell_type": "code",
   "execution_count": 13,
   "metadata": {},
   "outputs": [
    {
     "name": "stdout",
     "output_type": "stream",
     "text": [
      "The intercept term of the linear model: -2641372.667\n",
      "The coefficients of the linear model: [21.618, 165221.12, 121405.377, 1318.719, 15.225]\n",
      "\n",
      "R-squared value of this fit (on the training set): 0.918\n",
      "\n"
     ]
    }
   ],
   "source": [
    "# Print the intercept and coefficients of the linear model\n",
    "print(\"The intercept term of the linear model:\", round(lm.intercept_,3))\n",
    "print(\"The coefficients of the linear model:\", [round(c,3) for c in lm.coef_])\n",
    "print()\n",
    "\n",
    "# R-square coefficient\n",
    "train_pred=lm.predict(X_train)\n",
    "print(\"R-squared value of this fit (on the training set):\",round(metrics.r2_score(y_train,train_pred),3))\n",
    "# Test score\n",
    "#test_score=lm.score(X_test,y_test)\n",
    "#print(\"Test score: \",round(test_score,3))\n",
    "print()"
   ]
  },
  {
   "cell_type": "code",
   "execution_count": 17,
   "metadata": {},
   "outputs": [],
   "source": [
    "with open('model.pkl', 'wb') as file:\n",
    "    pickle.dump(lm, file)"
   ]
  },
  {
   "cell_type": "code",
   "execution_count": 23,
   "metadata": {},
   "outputs": [],
   "source": [
    "X_test.to_csv(\"Data/House_price_prediction/housing_test.csv\")"
   ]
  },
  {
   "cell_type": "code",
   "execution_count": null,
   "metadata": {},
   "outputs": [],
   "source": []
  }
 ],
 "metadata": {
  "kernelspec": {
   "display_name": "Python 3",
   "language": "python",
   "name": "python3"
  },
  "language_info": {
   "codemirror_mode": {
    "name": "ipython",
    "version": 3
   },
   "file_extension": ".py",
   "mimetype": "text/x-python",
   "name": "python",
   "nbconvert_exporter": "python",
   "pygments_lexer": "ipython3",
   "version": "3.7.6"
  }
 },
 "nbformat": 4,
 "nbformat_minor": 4
}
